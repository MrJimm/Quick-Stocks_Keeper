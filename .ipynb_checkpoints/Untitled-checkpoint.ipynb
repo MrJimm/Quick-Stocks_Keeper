{
 "cells": [
  {
   "cell_type": "code",
   "execution_count": null,
   "metadata": {},
   "outputs": [],
   "source": [
    " -- defines a factorial function\n",
    "    function fact (n)\n",
    "      if n == 0 then\n",
    "        return 1\n",
    "      else\n",
    "        return n * fact(n-1)\n",
    "      end\n",
    "    end\n",
    "    \n",
    "    print(\"enter a number:\")\n",
    "    a = io.read(\"*number\")        -- read a number\n",
    "    print(fact(a))"
   ]
  }
 ],
 "metadata": {
  "kernelspec": {
   "display_name": "Python 3",
   "language": "python",
   "name": "python3"
  },
  "language_info": {
   "codemirror_mode": {
    "name": "ipython",
    "version": 3
   },
   "file_extension": ".py",
   "mimetype": "text/x-python",
   "name": "python",
   "nbconvert_exporter": "python",
   "pygments_lexer": "ipython3",
   "version": "3.6.10"
  }
 },
 "nbformat": 4,
 "nbformat_minor": 4
}
