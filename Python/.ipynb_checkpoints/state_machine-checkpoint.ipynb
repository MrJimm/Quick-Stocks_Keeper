{
 "cells": [
  {
   "cell_type": "code",
   "execution_count": 115,
   "metadata": {},
   "outputs": [],
   "source": [
    "import os\n",
    "from threading import Lock\n",
    "import json\n",
    "\n",
    "class JSONDatabase:\n",
    "    \n",
    "    def __init__(self, filename):\n",
    "        self._filelock = Lock()\n",
    "        self._cache_storage = self._create_empty_storage()\n",
    "        \n",
    "        # input parameters\n",
    "        self._filename = filename\n",
    "        \n",
    "        if not os.path.exists(self._filename):\n",
    "            with open(self._filename, 'w') as f:\n",
    "                f.write(json.dumps(self._cache_storage))\n",
    "    \n",
    "    def _create_empty_storage(self):\n",
    "        return {}\n",
    "    \n",
    "    def load_storage(self):\n",
    "        try:\n",
    "            self._filelock.acquire() #\n",
    "            \n",
    "            with open(self._filename, 'r') as f:\n",
    "                txt = f.read()\n",
    "                if not txt:\n",
    "                    self._cache_storage = self._create_empty_storage()\n",
    "                else:\n",
    "                    self._cache_storage = json.loads(txt)\n",
    "            return True\n",
    "            \n",
    "        finally:\n",
    "            self._filelock.release()\n",
    "    \n",
    "    def flush_storage(self):\n",
    "        try:\n",
    "            self._filelock.acquire() #\n",
    "            \n",
    "            with open(self._filename, 'w') as f:\n",
    "                f.write(json.dumps(self._cache_storage))\n",
    "            return True\n",
    "            \n",
    "        finally:\n",
    "            self._filelock.release()\n",
    "    \n",
    "    def get_key(self, key):\n",
    "        try:\n",
    "            self._filelock.acquire() #\n",
    "            \n",
    "            return self._cache_storage[key]\n",
    "        \n",
    "        finally:\n",
    "            self._filelock.release()\n",
    "            \n",
    "    def set_key(self, key, value):\n",
    "        try:\n",
    "            self._filelock.acquire() #\n",
    "            \n",
    "            self._cache_storage[key] = value\n",
    "            return True\n",
    "            \n",
    "        finally:\n",
    "            self._filelock.release()\n",
    "    \n",
    "    def delete_key(self, key):\n",
    "        try:\n",
    "            self._filelock.acquire() #\n",
    "            \n",
    "            self._cache_storage.pop(key)\n",
    "            return True\n",
    "            \n",
    "        finally:\n",
    "            self._filelock.release()\n",
    "    \n",
    "    def get_cache_storage(self):\n",
    "        try:\n",
    "            self._filelock.acquire() #\n",
    "            \n",
    "            return self._cache_storage\n",
    "            \n",
    "        finally:\n",
    "            self._filelock.release()"
   ]
  },
  {
   "cell_type": "code",
   "execution_count": 128,
   "metadata": {},
   "outputs": [],
   "source": [
    "import pandas as pd\n",
    "import time\n",
    "\n",
    "class Position:\n",
    "    \n",
    "    def __init__(self, ticker, items_amount, pos_type, enter_level, stop_loss_level, reenter_level, exit_level, broker):\n",
    "        #status new or closed\n",
    "        self.params = {'status': 'new', 'time_created': time.time()}\n",
    "        \n",
    "        self.params['ticker'] = ticker\n",
    "        self.params['items_amount'] = items_amount\n",
    "        self.params['pos_type'] = pos_type\n",
    "        self.params['enter_level'] = enter_level\n",
    "        self.params['stop_loss_level'] = stop_loss_level\n",
    "        self.params['reenter_level'] = reenter_level\n",
    "        self.params['exit_level'] = exit_level\n",
    "        \n",
    "        self.params['time_changed'] = self.params['time_created']\n",
    "        self.params['time_closed'] = -1\n",
    "        self.params['broker'] = broker\n",
    "\n",
    "class CommandPanel:\n",
    "    \n",
    "    def __init__(self, cmd_db):\n",
    "        self._db = cmd_db\n",
    "    \n",
    "    def gen_new_pos_key_prefix(self):\n",
    "        return f'{t:22.12f}'.replace('.', '').replace(',', '')\n",
    "    \n",
    "    def add_new_position(self, ticker, items_amount, pos_type, enter_level=1, stop_loss_level=2.3, reenter_level=2, exit_level=1):\n",
    "        self._db.load_storage()\n",
    "        new_key = f'{ticker}_{self.gen_new_pos_key_prefix()}'\n",
    "        self._db.set_key(new_key, Position(ticker, items_amount, pos_type, enter_level, stop_loss_level, reenter_level, exit_level, broker='BCS').params)\n",
    "        self._db.flush_storage()\n",
    "        \n",
    "    def delete_position(self, key):\n",
    "        self._db.load_storage()\n",
    "        self._db.delete_key(key)\n",
    "        self._db.flush_storage()\n",
    "    \n",
    "    def get_all_positions_pd(self):\n",
    "        self._db.load_storage()\n",
    "        pos = self._db.get_cache_storage()\n",
    "        res = pd.DataFrame()\n",
    "        \n",
    "        for p in pos:\n",
    "            item = pos[p]\n",
    "            item['key'] = p\n",
    "            res = res.append(item, ignore_index=True)\n",
    "        \n",
    "        return res\n",
    "    \n",
    "    def get_all_positions_pd_view(self):\n",
    "        positions = self.get_all_positions_pd()\n",
    "        return positions[['key', 'ticker', 'pos_type', 'status', 'items_amount', 'enter_level', 'stop_loss_level', 'reenter_level', 'exit_level']]"
   ]
  },
  {
   "cell_type": "code",
   "execution_count": 129,
   "metadata": {},
   "outputs": [],
   "source": [
    "cmd_db = JSONDatabase('cmd_db.json')\n",
    "cmd = CommandPanel(cmd_db)"
   ]
  },
  {
   "cell_type": "code",
   "execution_count": 130,
   "metadata": {},
   "outputs": [
    {
     "data": {
      "text/html": [
       "<div>\n",
       "<style scoped>\n",
       "    .dataframe tbody tr th:only-of-type {\n",
       "        vertical-align: middle;\n",
       "    }\n",
       "\n",
       "    .dataframe tbody tr th {\n",
       "        vertical-align: top;\n",
       "    }\n",
       "\n",
       "    .dataframe thead th {\n",
       "        text-align: right;\n",
       "    }\n",
       "</style>\n",
       "<table border=\"1\" class=\"dataframe\">\n",
       "  <thead>\n",
       "    <tr style=\"text-align: right;\">\n",
       "      <th></th>\n",
       "      <th>enter_level</th>\n",
       "      <th>exit_level</th>\n",
       "      <th>items_amount</th>\n",
       "      <th>key</th>\n",
       "      <th>pos_type</th>\n",
       "      <th>reenter_level</th>\n",
       "      <th>status</th>\n",
       "      <th>stop_loss_level</th>\n",
       "      <th>ticker</th>\n",
       "    </tr>\n",
       "  </thead>\n",
       "  <tbody>\n",
       "    <tr>\n",
       "      <th>0</th>\n",
       "      <td>1.0</td>\n",
       "      <td>1.0</td>\n",
       "      <td>2.0</td>\n",
       "      <td>ROSN_1607541199865460634232</td>\n",
       "      <td>long</td>\n",
       "      <td>2.0</td>\n",
       "      <td>new</td>\n",
       "      <td>2.3</td>\n",
       "      <td>ROSN</td>\n",
       "    </tr>\n",
       "  </tbody>\n",
       "</table>\n",
       "</div>"
      ],
      "text/plain": [
       "   enter_level  exit_level  items_amount                          key  \\\n",
       "0          1.0         1.0           2.0  ROSN_1607541199865460634232   \n",
       "\n",
       "  pos_type  reenter_level status  stop_loss_level ticker  \n",
       "0     long            2.0    new              2.3   ROSN  "
      ]
     },
     "execution_count": 130,
     "metadata": {},
     "output_type": "execute_result"
    }
   ],
   "source": [
    "cmd.get_all_positions_pd()"
   ]
  },
  {
   "cell_type": "code",
   "execution_count": 131,
   "metadata": {},
   "outputs": [
    {
     "ename": "TypeError",
     "evalue": "__init__() got an unexpected keyword argument 'broer'",
     "output_type": "error",
     "traceback": [
      "\u001b[1;31m---------------------------------------------------------------------------\u001b[0m",
      "\u001b[1;31mTypeError\u001b[0m                                 Traceback (most recent call last)",
      "\u001b[1;32m<ipython-input-131-404faf017de5>\u001b[0m in \u001b[0;36m<module>\u001b[1;34m\u001b[0m\n\u001b[1;32m----> 1\u001b[1;33m \u001b[0mcmd\u001b[0m\u001b[1;33m.\u001b[0m\u001b[0madd_new_position\u001b[0m\u001b[1;33m(\u001b[0m\u001b[0mticker\u001b[0m\u001b[1;33m=\u001b[0m\u001b[1;34m'ROSN'\u001b[0m\u001b[1;33m,\u001b[0m \u001b[0mitems_amount\u001b[0m\u001b[1;33m=\u001b[0m\u001b[1;36m2\u001b[0m\u001b[1;33m,\u001b[0m \u001b[0mpos_type\u001b[0m\u001b[1;33m=\u001b[0m\u001b[1;34m'long'\u001b[0m\u001b[1;33m)\u001b[0m\u001b[1;33m\u001b[0m\u001b[1;33m\u001b[0m\u001b[0m\n\u001b[0m",
      "\u001b[1;32m<ipython-input-128-147342c1f0c7>\u001b[0m in \u001b[0;36madd_new_position\u001b[1;34m(self, ticker, items_amount, pos_type, enter_level, stop_loss_level, reenter_level, exit_level)\u001b[0m\n\u001b[0;32m     31\u001b[0m         \u001b[0mself\u001b[0m\u001b[1;33m.\u001b[0m\u001b[0m_db\u001b[0m\u001b[1;33m.\u001b[0m\u001b[0mload_storage\u001b[0m\u001b[1;33m(\u001b[0m\u001b[1;33m)\u001b[0m\u001b[1;33m\u001b[0m\u001b[1;33m\u001b[0m\u001b[0m\n\u001b[0;32m     32\u001b[0m         \u001b[0mnew_key\u001b[0m \u001b[1;33m=\u001b[0m \u001b[1;34mf'{ticker}_{self.gen_new_pos_key_prefix()}'\u001b[0m\u001b[1;33m\u001b[0m\u001b[1;33m\u001b[0m\u001b[0m\n\u001b[1;32m---> 33\u001b[1;33m         \u001b[0mself\u001b[0m\u001b[1;33m.\u001b[0m\u001b[0m_db\u001b[0m\u001b[1;33m.\u001b[0m\u001b[0mset_key\u001b[0m\u001b[1;33m(\u001b[0m\u001b[0mnew_key\u001b[0m\u001b[1;33m,\u001b[0m \u001b[0mPosition\u001b[0m\u001b[1;33m(\u001b[0m\u001b[0mticker\u001b[0m\u001b[1;33m,\u001b[0m \u001b[0mitems_amount\u001b[0m\u001b[1;33m,\u001b[0m \u001b[0mpos_type\u001b[0m\u001b[1;33m,\u001b[0m \u001b[0menter_level\u001b[0m\u001b[1;33m,\u001b[0m \u001b[0mstop_loss_level\u001b[0m\u001b[1;33m,\u001b[0m \u001b[0mreenter_level\u001b[0m\u001b[1;33m,\u001b[0m \u001b[0mexit_level\u001b[0m\u001b[1;33m,\u001b[0m \u001b[0mbroer\u001b[0m\u001b[1;33m=\u001b[0m\u001b[1;34m'BCS'\u001b[0m\u001b[1;33m)\u001b[0m\u001b[1;33m.\u001b[0m\u001b[0mparams\u001b[0m\u001b[1;33m)\u001b[0m\u001b[1;33m\u001b[0m\u001b[1;33m\u001b[0m\u001b[0m\n\u001b[0m\u001b[0;32m     34\u001b[0m         \u001b[0mself\u001b[0m\u001b[1;33m.\u001b[0m\u001b[0m_db\u001b[0m\u001b[1;33m.\u001b[0m\u001b[0mflush_storage\u001b[0m\u001b[1;33m(\u001b[0m\u001b[1;33m)\u001b[0m\u001b[1;33m\u001b[0m\u001b[1;33m\u001b[0m\u001b[0m\n\u001b[0;32m     35\u001b[0m \u001b[1;33m\u001b[0m\u001b[0m\n",
      "\u001b[1;31mTypeError\u001b[0m: __init__() got an unexpected keyword argument 'broer'"
     ]
    }
   ],
   "source": [
    "cmd.add_new_position(ticker='ROSN', items_amount=2, pos_type='long')"
   ]
  },
  {
   "cell_type": "code",
   "execution_count": 127,
   "metadata": {},
   "outputs": [
    {
     "data": {
      "text/html": [
       "<div>\n",
       "<style scoped>\n",
       "    .dataframe tbody tr th:only-of-type {\n",
       "        vertical-align: middle;\n",
       "    }\n",
       "\n",
       "    .dataframe tbody tr th {\n",
       "        vertical-align: top;\n",
       "    }\n",
       "\n",
       "    .dataframe thead th {\n",
       "        text-align: right;\n",
       "    }\n",
       "</style>\n",
       "<table border=\"1\" class=\"dataframe\">\n",
       "  <thead>\n",
       "    <tr style=\"text-align: right;\">\n",
       "      <th></th>\n",
       "      <th>enter_level</th>\n",
       "      <th>exit_level</th>\n",
       "      <th>items_amount</th>\n",
       "      <th>key</th>\n",
       "      <th>pos_type</th>\n",
       "      <th>reenter_level</th>\n",
       "      <th>status</th>\n",
       "      <th>stop_loss_level</th>\n",
       "      <th>ticker</th>\n",
       "    </tr>\n",
       "  </thead>\n",
       "  <tbody>\n",
       "    <tr>\n",
       "      <th>0</th>\n",
       "      <td>1.0</td>\n",
       "      <td>1.0</td>\n",
       "      <td>2.0</td>\n",
       "      <td>ROSN_1607541199865460634232</td>\n",
       "      <td>long</td>\n",
       "      <td>2.0</td>\n",
       "      <td>new</td>\n",
       "      <td>2.3</td>\n",
       "      <td>ROSN</td>\n",
       "    </tr>\n",
       "  </tbody>\n",
       "</table>\n",
       "</div>"
      ],
      "text/plain": [
       "   enter_level  exit_level  items_amount                          key  \\\n",
       "0          1.0         1.0           2.0  ROSN_1607541199865460634232   \n",
       "\n",
       "  pos_type  reenter_level status  stop_loss_level ticker  \n",
       "0     long            2.0    new              2.3   ROSN  "
      ]
     },
     "execution_count": 127,
     "metadata": {},
     "output_type": "execute_result"
    }
   ],
   "source": [
    "cmd.get_all_positions_pd_view()"
   ]
  },
  {
   "cell_type": "code",
   "execution_count": 37,
   "metadata": {},
   "outputs": [],
   "source": [
    "db = JSONDatabase('test.json')"
   ]
  },
  {
   "cell_type": "code",
   "execution_count": 38,
   "metadata": {},
   "outputs": [
    {
     "data": {
      "text/plain": [
       "True"
      ]
     },
     "execution_count": 38,
     "metadata": {},
     "output_type": "execute_result"
    }
   ],
   "source": [
    "db.set_key('test', {'a': 1, 'b': 2})"
   ]
  },
  {
   "cell_type": "code",
   "execution_count": 39,
   "metadata": {},
   "outputs": [
    {
     "data": {
      "text/plain": [
       "{'test': {'a': 1, 'b': 2}}"
      ]
     },
     "execution_count": 39,
     "metadata": {},
     "output_type": "execute_result"
    }
   ],
   "source": [
    "db._cache_storage"
   ]
  },
  {
   "cell_type": "code",
   "execution_count": 40,
   "metadata": {},
   "outputs": [
    {
     "data": {
      "text/plain": [
       "True"
      ]
     },
     "execution_count": 40,
     "metadata": {},
     "output_type": "execute_result"
    }
   ],
   "source": [
    "db.flush_storage()"
   ]
  },
  {
   "cell_type": "code",
   "execution_count": 41,
   "metadata": {},
   "outputs": [
    {
     "data": {
      "text/plain": [
       "True"
      ]
     },
     "execution_count": 41,
     "metadata": {},
     "output_type": "execute_result"
    }
   ],
   "source": [
    "db.load_storage()"
   ]
  },
  {
   "cell_type": "code",
   "execution_count": 42,
   "metadata": {},
   "outputs": [
    {
     "data": {
      "text/plain": [
       "{'test': {'a': 1, 'b': 2}}"
      ]
     },
     "execution_count": 42,
     "metadata": {},
     "output_type": "execute_result"
    }
   ],
   "source": [
    "db.get_cache_storage()"
   ]
  },
  {
   "cell_type": "code",
   "execution_count": 84,
   "metadata": {},
   "outputs": [
    {
     "data": {
      "text/plain": [
       "(1607541199.8654606, '1607541199865460634232')"
      ]
     },
     "execution_count": 84,
     "metadata": {},
     "output_type": "execute_result"
    }
   ],
   "source": [
    "import time\n",
    "t = time.time()\n",
    "t, f'{t:22.12f}'.replace('.', '').replace(',', '')"
   ]
  },
  {
   "cell_type": "code",
   "execution_count": 56,
   "metadata": {},
   "outputs": [
    {
     "data": {
      "text/plain": [
       "float"
      ]
     },
     "execution_count": 56,
     "metadata": {},
     "output_type": "execute_result"
    }
   ],
   "source": [
    "type(time.time())"
   ]
  },
  {
   "cell_type": "code",
   "execution_count": null,
   "metadata": {},
   "outputs": [],
   "source": []
  }
 ],
 "metadata": {
  "kernelspec": {
   "display_name": "Python 3",
   "language": "python",
   "name": "python3"
  },
  "language_info": {
   "codemirror_mode": {
    "name": "ipython",
    "version": 3
   },
   "file_extension": ".py",
   "mimetype": "text/x-python",
   "name": "python",
   "nbconvert_exporter": "python",
   "pygments_lexer": "ipython3",
   "version": "3.6.10"
  }
 },
 "nbformat": 4,
 "nbformat_minor": 4
}
